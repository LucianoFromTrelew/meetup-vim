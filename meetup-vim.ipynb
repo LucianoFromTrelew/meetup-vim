{
 "cells": [
  {
   "cell_type": "markdown",
   "metadata": {},
   "source": [
    "# Vim: cómo salir del editor y otros trucos (parte II)"
   ]
  },
  {
   "cell_type": "markdown",
   "metadata": {},
   "source": [
    "## Por Luciano Serruya Aloisi, \n",
    "#### Python Meetup Patagonia, 16 de Diciembre de 2017\n",
    "\n",
    "### Temas a presentar:\n",
    "* Fisa config e imagen de docker\n",
    "* NERDTree\n",
    "* NERDCommenter\n",
    "* Surround\n",
    "* Emmet\n",
    "\n",
    "[Repositorio con este material](http://cor.to/meetup-vim)\n",
    "\n",
    "# cor.to/meetup-vim\n",
    "\n",
    "***"
   ]
  },
  {
   "cell_type": "markdown",
   "metadata": {
    "collapsed": true
   },
   "source": [
    "### fisa-nvim-config\n",
    "\n",
    "* [Dónde descargarlo y cómo instalarlo](http://nvim.fisadev.com/)\n",
    "\n",
    "* Imagen de Docker:\n",
    "    * *docker pull fedeg/python-nvim:latest*\n",
    "* Cómo correrlo en Docker:\n",
    "    * *docker run -it --rm -v \\$PWD:/src -v $VIMRC/init.vim:/root/.config/nvim/init.vim --workdir /src --name vim fisa-vim*\n",
    "    \n",
    "    (siendo la variable \"\\$VIMRC\" la ubicación de donde tengamos nuestro init.vim personal; de no querer alguna configuración personal, obviar toda la parte *-v $VIMRC/init.vim:/root/.config/nvim/init.vim* al momento de levantar el contenedor)\n",
    "    \n",
    "***"
   ]
  },
  {
   "cell_type": "markdown",
   "metadata": {},
   "source": [
    "### NERDTree\n",
    "\n",
    "* Explorador de archivos\n",
    "* __Ver ayuda y documentación: *:help NERDTree*__\n",
    "* Cómo levantarlo: *:NERDTree* (dospuntosNERDTree)\n",
    "* Cómo tenerlo levantado cuando iniciamos Vim:\n",
    "    * En nuestro .vimrc (o init.vim), agregar lo siguiente: \n",
    "        * autocmd VimEnter * NERDTree\n",
    "        * autocmd VimEnter * wincmd p\n",
    "        \n",
    "***"
   ]
  },
  {
   "cell_type": "markdown",
   "metadata": {},
   "source": [
    "### NERDCommenter\n",
    "* Comentar/descomentar líneas\n",
    "* __Ver ayuda y documentación: *:help NERDCommenter*__\n",
    "* Los comandos del NERDCommenter utilizan la tecla especial \"`<Leader>`\". Por defecto está mapeada a la tecla '\\' (backslash). Todos los comandos empiezan con la combinación de teclas \"`<Leader>`c\" (\"\\c\" por defecto)\n",
    "* Comentar línea actual:\n",
    "    * `<Leader>`cc\n",
    "* Comentar línea actual:\n",
    "    * `<Leader>`cu \n",
    "* Comentar hasta el final de la línea actual:\n",
    "    * `<Leader>`c$\n",
    "* Comentar/descomentar línea actual (togglear):\n",
    "    * `<Leader>`ci\n",
    "    \n",
    "    \n",
    "***"
   ]
  },
  {
   "cell_type": "markdown",
   "metadata": {},
   "source": [
    "### Surround\n",
    "* Permite agregar, cambiar, o eliminar \"envoltorios\" (como por ejemplo, paréntesis, llaves, comillas, hasta etiquetas HTML)\n",
    "* __Ver ayuda y documentación: *:help surround*__\n",
    "* Los comandos del surround se basan en los comandos mnemotécnicos que ya provee Vim, ellos son:\n",
    "    * cs (*change surround*, recibe un surrounding para buscar, y otro para reemplazar)\n",
    "    * ds (*delete surround*, recibe un surrounding para eliminar)\n",
    "    * ys (*yank surround*, recibe un *objeto de texto*, y un surrounding)\n",
    "    \n",
    "### A tener en cuenta: los paréntesis, llaves, o corchetes que abren, agregan un espacio entre el envoltorio y el texto. Los que cierran no\n",
    "\n",
    "## Ver pruebas en prueba.html\n",
    "* Eliminar un surrounding\n",
    "* Cambiar un surrounding por otro (mostrar la diferencia entre [, y ])\n",
    "* Agregar un surrounding a un objeto de texto\n",
    "\n",
    "\n",
    "***"
   ]
  },
  {
   "cell_type": "markdown",
   "metadata": {},
   "source": [
    "### Emmet\n",
    "* Define una sintaxis para generar HTML y CSS más rápidamente\n",
    "* __Ver ayuda y documentación: *:help emmet*__\n",
    "* El comando básico que se va a utilizar con emmet va a ser: *<`C-y`>,* (Ctrl+y+,)\n",
    "    * \\>: crea elemento hijo\n",
    "    * \\.: agrega una clase, para agregar varias clases, concatenear puntos\n",
    "    * \\#: agrega el ID al elemento\n",
    "    * \\[]: agrega un atributo con su valor ([\"atributo\":\"valor\"])\n",
    "    * \\{}: escribe dentro del elemento\n",
    "\n",
    "\n",
    "### Cheatsheet de emmet en el directorio \"res\" dentro del repo\n",
    "\n",
    "\n",
    "### A tener en cuenta: si se quiere cambiar el surrounding de un texto con el plugin surround, no acepta la sintaxis de emmet \n",
    "\n",
    "## Ver pruebas en prueba.html\n",
    "* Armar elementos con clases, IDs, atributos, y valores\n",
    "* Armar un elemento a partir de un texto ya escrito\n",
    "* Armar una lista a partir de textos ya escritos\n",
    "* Mostrar las iteraciones y contadores\n",
    "\n"
   ]
  }
 ],
 "metadata": {
  "kernelspec": {
   "display_name": "Python 3",
   "language": "python",
   "name": "python3"
  },
  "language_info": {
   "codemirror_mode": {
    "name": "ipython",
    "version": 3
   },
   "file_extension": ".py",
   "mimetype": "text/x-python",
   "name": "python",
   "nbconvert_exporter": "python",
   "pygments_lexer": "ipython3",
   "version": "3.6.1"
  }
 },
 "nbformat": 4,
 "nbformat_minor": 2
}
